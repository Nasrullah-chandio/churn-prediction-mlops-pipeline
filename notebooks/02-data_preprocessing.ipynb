{
 "cells": [
  {
   "cell_type": "code",
   "execution_count": 1,
   "id": "62258eea",
   "metadata": {},
   "outputs": [],
   "source": [
    "import pandas as pd\n",
    "\n",
    "df_bss = pd.read_csv('C:/My_Projects/churn-prediction-mlops-pipeline/data/raw-data/bss_data.csv')\n",
    "df_complaints = pd.read_csv('C:/My_Projects/churn-prediction-mlops-pipeline/data/raw-data/complaints_data.csv')\n",
    "df_network = pd.read_csv('C:/My_Projects/churn-prediction-mlops-pipeline/data/raw-data/network_data.csv')"
   ]
  },
  {
   "cell_type": "code",
   "execution_count": 2,
   "id": "c200930b",
   "metadata": {},
   "outputs": [],
   "source": [
    "# === 1. Preprocess BSS data ===\n",
    "df_bss['TotalCharges'] = pd.to_numeric(df_bss['TotalCharges'], errors='coerce')\n",
    "df_bss['Churn_Label'] = df_bss['Churn'].map({'Yes': 1, 'No': 0})"
   ]
  },
  {
   "cell_type": "code",
   "execution_count": 3,
   "id": "16641219",
   "metadata": {},
   "outputs": [],
   "source": [
    "# === 2. Preprocess complaints data ===\n",
    "df_complaints.rename(columns={'date': 'complaint_date', 'issue': 'complaint_type'}, inplace=True)\n",
    "\n",
    "# Aggregate complaints per customer\n",
    "agg_complaints = df_complaints.groupby('customerID').agg(\n",
    "    total_complaints=('complaint_id', 'count'),\n",
    "    resolved_complaints=('status', lambda x: (x == 'Resolved').sum()),\n",
    "    unresolved_complaints=('status', lambda x: (x != 'Resolved').sum())\n",
    ").reset_index()"
   ]
  },
  {
   "cell_type": "code",
   "execution_count": 4,
   "id": "4d6cc13e",
   "metadata": {},
   "outputs": [],
   "source": [
    "# === 3. Preprocess network data ===\n",
    "df_network['call_drop_rate'] = df_network['dropped_calls'] / df_network['total_calls']\n",
    "df_network['data_usage_gb'] = df_network['data_volume_MB'] / 1024\n",
    "\n",
    "agg_network = df_network.groupby('customerID').agg({\n",
    "    'call_drop_rate': 'mean',\n",
    "    'data_usage_gb': 'mean',\n",
    "    'throughput_Mbps': 'mean'\n",
    "}).reset_index()"
   ]
  },
  {
   "cell_type": "code",
   "execution_count": 5,
   "id": "4c9b09f5",
   "metadata": {},
   "outputs": [],
   "source": [
    "# === 4. Merge all data ===\n",
    "df_merged = df_bss.merge(agg_complaints, on='customerID', how='left')\n",
    "df_merged = df_merged.merge(agg_network, on='customerID', how='left')"
   ]
  },
  {
   "cell_type": "code",
   "execution_count": 7,
   "id": "4002e129",
   "metadata": {},
   "outputs": [],
   "source": [
    "# Save preprocessed data\n",
    "df_merged.to_csv(\"C:/My_projects/churn-prediction-mlops-pipeline/data/processed-data/preprocessed_data.csv\", index=False)"
   ]
  },
  {
   "cell_type": "code",
   "execution_count": null,
   "id": "461a09bf",
   "metadata": {},
   "outputs": [],
   "source": []
  }
 ],
 "metadata": {
  "kernelspec": {
   "display_name": "Python 3 (ipykernel)",
   "language": "python",
   "name": "python3"
  },
  "language_info": {
   "codemirror_mode": {
    "name": "ipython",
    "version": 3
   },
   "file_extension": ".py",
   "mimetype": "text/x-python",
   "name": "python",
   "nbconvert_exporter": "python",
   "pygments_lexer": "ipython3",
   "version": "3.11.5"
  }
 },
 "nbformat": 4,
 "nbformat_minor": 5
}
